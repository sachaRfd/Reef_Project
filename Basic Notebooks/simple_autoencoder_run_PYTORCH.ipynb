{
  "nbformat": 4,
  "nbformat_minor": 0,
  "metadata": {
    "colab": {
      "provenance": [],
      "authorship_tag": "ABX9TyP+I20tiqy8lbzUug7ygbAU",
      "include_colab_link": true
    },
    "kernelspec": {
      "name": "python3",
      "display_name": "Python 3"
    },
    "language_info": {
      "name": "python"
    },
    "accelerator": "GPU",
    "gpuClass": "standard"
  },
  "cells": [
    {
      "cell_type": "markdown",
      "metadata": {
        "id": "view-in-github",
        "colab_type": "text"
      },
      "source": [
        "<a href=\"https://colab.research.google.com/github/sachaRfd/Reef_Project/blob/main/Basic%20Notebooks/simple_autoencoder_run_PYTORCH.ipynb\" target=\"_parent\"><img src=\"https://colab.research.google.com/assets/colab-badge.svg\" alt=\"Open In Colab\"/></a>"
      ]
    },
    {
      "cell_type": "markdown",
      "source": [
        "# Simple Auto Encoder Run with Reef Images:\n",
        "\n",
        "## Comments:\n",
        "- Used the first 550 images.\n",
        "- This is just running the auto-encoder --> Then we will move on to integrating the RPCA model\n",
        "\n",
        "- Testing the model with the training set --> Not good but just to try as loading each image can be a pain\n",
        "- Model is working but not very good \n",
        "- Data needs more preprocessing --> they should have similar shapes\n",
        "\n",
        "\n",
        "## TO DO:\n",
        "- Clean the data\n",
        "  - Get data that has same shape or remove the data that is like 1 tile big \n",
        "  - Get the data normalised prior to loading onto Colab\n",
        "- Look into bigger model --> Upgrade Colab with own GPU\n",
        "\n",
        "\n"
      ],
      "metadata": {
        "id": "RikwdahAEGnW"
      }
    },
    {
      "cell_type": "markdown",
      "source": [
        "# Second Run: \n",
        "- Small images of 50x50 pixels\n",
        "- 300 images in testing and 16 only in testing --> Still not great but start small"
      ],
      "metadata": {
        "id": "HMKrCAwjR3kX"
      }
    },
    {
      "cell_type": "code",
      "execution_count": 1,
      "metadata": {
        "colab": {
          "base_uri": "https://localhost:8080/"
        },
        "id": "eqeCd60cEF1B",
        "outputId": "7929998f-2196-49f7-e66b-4dafdaa104ea"
      },
      "outputs": [
        {
          "output_type": "stream",
          "name": "stdout",
          "text": [
            "Looking in indexes: https://pypi.org/simple, https://us-python.pkg.dev/colab-wheels/public/simple/\n",
            "Collecting rasterio\n",
            "  Downloading rasterio-1.3.6-cp39-cp39-manylinux_2_17_x86_64.manylinux2014_x86_64.whl (20.1 MB)\n",
            "\u001b[2K     \u001b[90m━━━━━━━━━━━━━━━━━━━━━━━━━━━━━━━━━━━━━━━━\u001b[0m \u001b[32m20.1/20.1 MB\u001b[0m \u001b[31m25.1 MB/s\u001b[0m eta \u001b[36m0:00:00\u001b[0m\n",
            "\u001b[?25hCollecting affine\n",
            "  Downloading affine-2.4.0-py3-none-any.whl (15 kB)\n",
            "Requirement already satisfied: certifi in /usr/local/lib/python3.9/dist-packages (from rasterio) (2022.12.7)\n",
            "Requirement already satisfied: numpy>=1.18 in /usr/local/lib/python3.9/dist-packages (from rasterio) (1.22.4)\n",
            "Requirement already satisfied: setuptools in /usr/local/lib/python3.9/dist-packages (from rasterio) (67.6.1)\n",
            "Requirement already satisfied: attrs in /usr/local/lib/python3.9/dist-packages (from rasterio) (22.2.0)\n",
            "Collecting cligj>=0.5\n",
            "  Downloading cligj-0.7.2-py3-none-any.whl (7.1 kB)\n",
            "Requirement already satisfied: click>=4.0 in /usr/local/lib/python3.9/dist-packages (from rasterio) (8.1.3)\n",
            "Collecting snuggs>=1.4.1\n",
            "  Downloading snuggs-1.4.7-py3-none-any.whl (5.4 kB)\n",
            "Collecting click-plugins\n",
            "  Downloading click_plugins-1.1.1-py2.py3-none-any.whl (7.5 kB)\n",
            "Requirement already satisfied: pyparsing>=2.1.6 in /usr/local/lib/python3.9/dist-packages (from snuggs>=1.4.1->rasterio) (3.0.9)\n",
            "Installing collected packages: snuggs, cligj, click-plugins, affine, rasterio\n",
            "Successfully installed affine-2.4.0 click-plugins-1.1.1 cligj-0.7.2 rasterio-1.3.6 snuggs-1.4.7\n",
            "Looking in indexes: https://pypi.org/simple, https://us-python.pkg.dev/colab-wheels/public/simple/\n",
            "Requirement already satisfied: torch in /usr/local/lib/python3.9/dist-packages (1.13.1+cu116)\n",
            "Requirement already satisfied: typing-extensions in /usr/local/lib/python3.9/dist-packages (from torch) (4.5.0)\n",
            "True\n"
          ]
        }
      ],
      "source": [
        "# ! pip install tensorflow\n",
        "! pip install rasterio\n",
        "! pip install torch\n",
        "\n",
        "import torch\n",
        "import torch.nn as nn\n",
        "import torch.optim as optim\n",
        "import matplotlib.pyplot as plt\n",
        "\n",
        "device = torch.device(\"cuda\" if torch.cuda.is_available() else \"cpu\")\n",
        "print(torch.cuda.is_available())"
      ]
    },
    {
      "cell_type": "markdown",
      "source": [
        "Below is the Tensoflow code I used to adapt to pytorch"
      ],
      "metadata": {
        "id": "8d7ni5mpfqbx"
      }
    },
    {
      "cell_type": "code",
      "source": [
        "# import tensorflow.compat.v1 as tf\n",
        "# tf.disable_v2_behavior()\n",
        "# import numpy as np\n",
        "\n",
        "# def batches(l, n):\n",
        "#     \"\"\"Yield successive n-sized batches from l, the last batch is the left indexes.\"\"\"\n",
        "#     for i in range(0, l, n):\n",
        "#         yield range(i,min(l,i+n))\n",
        "\n",
        "# class Deep_Autoencoder(object):\n",
        "#     def __init__(self, sess, input_dim_list=[784,400]):\n",
        "#         \"\"\"input_dim_list must include the original data dimension\"\"\"\n",
        "#         assert len(input_dim_list) >= 2\n",
        "#         self.W_list = []\n",
        "#         self.encoding_b_list = []\n",
        "#         self.decoding_b_list = []\n",
        "#         self.dim_list = input_dim_list\n",
        "#         self.learning_rate = tf.compat.v1.placeholder(tf.float32, shape=())\n",
        "#         ## Encoders parameters\n",
        "#         for i in range(len(input_dim_list)-1):\n",
        "#             init_max_value = np.sqrt(6. / (self.dim_list[i] + self.dim_list[i+1]))\n",
        "#             self.W_list.append(tf.Variable(tf.random.uniform([self.dim_list[i],self.dim_list[i+1]],\n",
        "#                                                              np.negative(init_max_value),init_max_value)))\n",
        "#             self.encoding_b_list.append(tf.Variable(tf.random.uniform([self.dim_list[i+1]],-0.1,0.1)))\n",
        "#         ## Decoders parameters\n",
        "#         for i in range(len(input_dim_list)-2,-1,-1):\n",
        "#             self.decoding_b_list.append(tf.Variable(tf.random.uniform([self.dim_list[i]],-0.1,0.1)))\n",
        "#         ## Placeholder for input\n",
        "#         self.input_x = tf.compat.v1.placeholder(tf.float32,[None,self.dim_list[0]])\n",
        "#         ## coding graph :\n",
        "#         last_layer = self.input_x\n",
        "#         for weight,bias in zip(self.W_list,self.encoding_b_list):\n",
        "#             hidden = tf.sigmoid(tf.matmul(last_layer,weight) + bias)\n",
        "#             last_layer = hidden\n",
        "#         self.hidden = hidden \n",
        "#         ## decode graph:\n",
        "#         for weight,bias in zip(reversed(self.W_list),self.decoding_b_list):\n",
        "#             hidden = tf.sigmoid(tf.matmul(last_layer,tf.transpose(weight)) + bias)\n",
        "#             last_layer = hidden\n",
        "#         self.recon = last_layer\n",
        "   \n",
        "#         self.cost = 200 * tf.reduce_mean(tf.square(self.input_x - self.recon))\n",
        "# #         self.cost = 200*tf.losses.log_loss(self.recon, self.input_x)\n",
        "#         self.train_step = tf.compat.v1.train.AdamOptimizer(self.learning_rate).minimize(self.cost)\n",
        "#         sess.run(tf.compat.v1.global_variables_initializer())\n",
        "\n",
        "#     def fit(self, X, sess, learning_rate=0.15,\n",
        "#             iteration=200, batch_size=50, init=False,verbose=False):\n",
        "#         assert X.shape[1] == self.dim_list[0]\n",
        "#         if init:\n",
        "#             sess.run(tf.global_variables_initializer())\n",
        "#         sample_size = X.shape[0]\n",
        "#         for i in range(iteration):\n",
        "#             for one_batch in batches(sample_size, batch_size):\n",
        "#                 sess.run(self.train_step,feed_dict = {self.input_x:X[one_batch], self.learning_rate: learning_rate})\n",
        "\n",
        "#             if verbose and i%20==0:\n",
        "#                 e = self.cost.eval(session = sess,feed_dict = {self.input_x: X})\n",
        "#                 print (\"    iteration : \", i ,\", cost : \", e)\n",
        "\n",
        "#     def transform(self, X, sess):\n",
        "#         return self.hidden\n",
        "\n",
        "#     def getRecon(self, X, sess):\n",
        "#         return self.recon.eval(session = sess,feed_dict={self.input_x: X})\n",
        "    \n",
        "# ##################### test a machine with different data size#####################  \n",
        "# def test():\n",
        "#     start_time = time.time()\n",
        "#     with tf.Session() as sess:\n",
        "#         ae = Deep_Autoencoder(sess = sess, input_dim_list=[784,625,400,225,100])\n",
        "#         error = ae.fit(x[:1000] ,sess = sess, learning_rate=0.01, batch_size = 500, iteration = 1000, verbose=False)\n",
        "\n",
        "#     print (\"size 1000 Runing time:\" + str(time.time() - start_time) + \" s\")\n",
        "\n",
        "#     start_time = time.time()\n",
        "#     with tf.Session() as sess:\n",
        "#         ae = Deep_Autoencoder(sess = sess, input_dim_list=[784,625,400,225,100])\n",
        "#         error = ae.fit(x[:10000] ,sess = sess, learning_rate=0.01, batch_size = 500, iteration = 1000, verbose=False)\n",
        "\n",
        "#     print (\"size 10,000 Runing time:\" + str(time.time() - start_time) + \" s\")\n",
        "\n",
        "#     start_time = time.time()\n",
        "#     with tf.Session() as sess:\n",
        "#         ae = Deep_Autoencoder(sess = sess, input_dim_list=[784,625,400,225,100])\n",
        "#         error = ae.fit(x[:20000] ,sess = sess, learning_rate=0.01, batch_size = 500, iteration = 1000, verbose=False)\n",
        "\n",
        "#     print (\"size 20,000 Runing time:\" + str(time.time() - start_time) + \" s\")\n",
        "\n",
        "#     start_time = time.time()\n",
        "#     with tf.Session() as sess:\n",
        "#         ae = Deep_Autoencoder(sess = sess, input_dim_list=[784,625,400,225,100])\n",
        "#         error = ae.fit(x[:50000] ,sess = sess, learning_rate=0.01, batch_size = 500, iteration = 1000, verbose=False)\n",
        "\n",
        "#     print (\"size 50,000 Runing time:\" + str(time.time() - start_time) + \" s\")"
      ],
      "metadata": {
        "id": "pBvh-SuFEUQm"
      },
      "execution_count": null,
      "outputs": []
    },
    {
      "cell_type": "code",
      "source": [
        "# Dataset class:\n",
        "import numpy as np\n",
        "import torch\n",
        "from torch.utils.data import Dataset, DataLoader\n",
        "\n",
        "class ReefDataset(Dataset):\n",
        "    def __init__(self, data_dir, max_ind):\n",
        "        self.data_dir = data_dir\n",
        "        self.data = []\n",
        "        for i in range(max_ind):\n",
        "            test_arr = np.load(f\"{data_dir}/Reef_{i}.npy\", allow_pickle=True)\n",
        "            self.data.append(test_arr)\n",
        "        self.data = np.array(self.data)\n",
        "        self.data = self.data.reshape(max_ind, 50*50)\n",
        "        \n",
        "        # normalize data between -1 and 1:\n",
        "        self.data = (self.data - np.mean(self.data)) / np.std(self.data)\n",
        "        \n",
        "        self.data = torch.from_numpy(self.data).float()\n",
        "        \n",
        "    def __len__(self):\n",
        "        return len(self.data)\n",
        "    \n",
        "    def __getitem__(self, idx):\n",
        "        return self.data[idx]\n",
        "\n",
        "# Example usage\n",
        "train_dataset = ReefDataset('/content/reef_data', 300)\n",
        "train_dataloader = DataLoader(train_dataset, batch_size=20, shuffle=True)\n",
        "\n",
        "test_dataset = ReefDataset('/content/reef_test', 16)\n",
        "test_dataloader = DataLoader(test_dataset, batch_size=20)\n",
        "\n",
        "example_img = next(iter(train_dataloader))\n",
        "plt.imshow(example_img[0].numpy().reshape(50, 50), cmap=\"gray\")\n",
        "\n"
      ],
      "metadata": {
        "colab": {
          "base_uri": "https://localhost:8080/",
          "height": 449
        },
        "id": "osGw0YARIv0w",
        "outputId": "c913fde3-77e1-4500-f2fb-95891f883897"
      },
      "execution_count": 18,
      "outputs": [
        {
          "output_type": "execute_result",
          "data": {
            "text/plain": [
              "<matplotlib.image.AxesImage at 0x7fba977943d0>"
            ]
          },
          "metadata": {},
          "execution_count": 18
        },
        {
          "output_type": "display_data",
          "data": {
            "text/plain": [
              "<Figure size 640x480 with 1 Axes>"
            ],
            "image/png": "[encoded data removed]"
          },
          "metadata": {}
        }
      ]
    },
    {
      "cell_type": "code",
      "source": [
        "import matplotlib.pyplot as plt\n",
        "\n",
        "# Define the autoencoder architecture\n",
        "class Autoencoder(nn.Module):\n",
        "    def __init__(self):\n",
        "        super(Autoencoder, self).__init__()\n",
        "        self.encoder = nn.Sequential(\n",
        "            nn.Linear(50*50, 1000),\n",
        "            nn.Mish(),\n",
        "            nn.Linear(1000, 500),\n",
        "            nn.Mish(),\n",
        "            nn.Linear(500, 250),\n",
        "            nn.Mish(),\n",
        "            nn.Linear(250, 100),\n",
        "            nn.Mish(),\n",
        "            nn.Linear(100, 50),\n",
        "            nn.Mish()\n",
        "        )\n",
        "        self.decoder = nn.Sequential(\n",
        "            nn.Linear(50, 100),\n",
        "            nn.Mish(),\n",
        "            nn.Linear(100, 250),\n",
        "            nn.Mish(),\n",
        "            nn.Linear(250, 500),\n",
        "            nn.Mish(),\n",
        "            nn.Linear(500, 1000),\n",
        "            nn.Mish(),\n",
        "            nn.Linear(1000, 50*50),\n",
        "            # nn.Sigmoid()  # Output Between 0 and 1 --> so input data has to be in that range too\n",
        "            nn.Tanh()  # Output between -1 and 1\n",
        "        )\n",
        "    \n",
        "    def forward(self, x):\n",
        "        x = self.encoder(x)\n",
        "        x = self.decoder(x)\n",
        "        return x\n",
        "\n",
        "def train(model, dataloader, num_epochs):\n",
        "    model.train()\n",
        "    model.to(device)\n",
        "    criterion = nn.MSELoss()\n",
        "    optimizer = optim.Adam(model.parameters(), lr=0.0005)\n",
        "    for epoch in range(num_epochs):\n",
        "        running_loss = 0.0\n",
        "        for img in dataloader:\n",
        "            img = img.view(img.size(0), -1).to(device)\n",
        "            optimizer.zero_grad()\n",
        "            outputs = model(img)           \n",
        "            # Simple Loss for now: \n",
        "            loss = criterion(outputs, img)\n",
        "            # loss = 200* criterion(outputs, img)  # Loss used in the paper\n",
        "            loss.backward()\n",
        "            optimizer.step()\n",
        "            running_loss += loss.item()\n",
        "        print('Epoch [{}/{}], Loss: {:.4f}'.format(epoch+1, num_epochs, running_loss/len(dataloader)))\n",
        "\n",
        "\n",
        "def test(model, dataloader):\n",
        "  #Test the model: \n",
        "  model.eval()  # Set to eval mode\n",
        "  test_loss = 0\n",
        "  model.to(device)\n",
        "  criterion = nn.MSELoss()\n",
        "  with torch.no_grad():\n",
        "      for img in dataloader:\n",
        "          img = img.view(img.size(0), -1).to(device)\n",
        "          recon = model(img)\n",
        "          loss = criterion(recon, img)\n",
        "          test_loss += loss.item()\n",
        "  \n",
        "  test_loss /= len(dataloader)\n",
        "  print('Test Loss: {:.4f}'.format(test_loss))\n",
        "  print(\"Original: \")\n",
        "  plt.imshow(img.view(-1, 50, 50).to('cpu').numpy()[0], cmap=\"gray\")\n",
        "  plt.title(\"Original\")\n",
        "  plt.show() \n",
        "  print(\"Reconstruction:\")\n",
        "  plt.imshow(recon.view(-1, 50, 50).to('cpu').numpy()[0], cmap=\"gray\")\n",
        "  plt.show()\n",
        "  return img, recon"
      ],
      "metadata": {
        "id": "M8bUwGdLIpDi"
      },
      "execution_count": 61,
      "outputs": []
    },
    {
      "cell_type": "code",
      "source": [
        "# Initialize the autoencoder model and train it\n",
        "autoencoder = Autoencoder()\n",
        "print(f\"Number of parameters in the model: {sum(p.numel() for p in autoencoder.parameters())}\")\n",
        "train(autoencoder, train_dataloader, num_epochs=200)"
      ],
      "metadata": {
        "colab": {
          "base_uri": "https://localhost:8080/"
        },
        "id": "KQsVtmNFEWCt",
        "outputId": "5d8b31a5-d127-4f73-b282-9c67b23f9f9b"
      },
      "execution_count": 62,
      "outputs": [
        {
          "output_type": "stream",
          "name": "stdout",
          "text": [
            "Number of parameters in the model: 6316250\n",
            "Epoch [1/200], Loss: 0.7500\n",
            "Epoch [2/200], Loss: 0.4633\n",
            "Epoch [3/200], Loss: 0.4519\n",
            "Epoch [4/200], Loss: 0.4489\n",
            "Epoch [5/200], Loss: 0.4498\n",
            "Epoch [6/200], Loss: 0.4450\n",
            "Epoch [7/200], Loss: 0.4439\n",
            "Epoch [8/200], Loss: 0.4419\n",
            "Epoch [9/200], Loss: 0.4380\n",
            "Epoch [10/200], Loss: 0.4363\n",
            "Epoch [11/200], Loss: 0.4354\n",
            "Epoch [12/200], Loss: 0.4385\n",
            "Epoch [13/200], Loss: 0.4364\n",
            "Epoch [14/200], Loss: 0.4351\n",
            "Epoch [15/200], Loss: 0.4341\n",
            "Epoch [16/200], Loss: 0.4355\n",
            "Epoch [17/200], Loss: 0.4355\n",
            "Epoch [18/200], Loss: 0.4341\n",
            "Epoch [19/200], Loss: 0.4345\n",
            "Epoch [20/200], Loss: 0.4461\n",
            "Epoch [21/200], Loss: 0.4440\n",
            "Epoch [22/200], Loss: 0.5183\n",
            "Epoch [23/200], Loss: 0.4386\n",
            "Epoch [24/200], Loss: 0.5132\n",
            "Epoch [25/200], Loss: 0.4327\n",
            "Epoch [26/200], Loss: 0.4337\n",
            "Epoch [27/200], Loss: 0.5102\n",
            "Epoch [28/200], Loss: 0.4340\n",
            "Epoch [29/200], Loss: 0.5132\n",
            "Epoch [30/200], Loss: 0.4320\n",
            "Epoch [31/200], Loss: 0.4302\n",
            "Epoch [32/200], Loss: 0.4329\n",
            "Epoch [33/200], Loss: 0.4297\n",
            "Epoch [34/200], Loss: 0.4297\n",
            "Epoch [35/200], Loss: 0.4292\n",
            "Epoch [36/200], Loss: 0.5053\n",
            "Epoch [37/200], Loss: 0.4262\n",
            "Epoch [38/200], Loss: 0.4299\n",
            "Epoch [39/200], Loss: 0.4257\n",
            "Epoch [40/200], Loss: 0.4233\n",
            "Epoch [41/200], Loss: 0.4226\n",
            "Epoch [42/200], Loss: 0.5023\n",
            "Epoch [43/200], Loss: 0.4215\n",
            "Epoch [44/200], Loss: 0.4198\n",
            "Epoch [45/200], Loss: 0.4200\n",
            "Epoch [46/200], Loss: 0.4185\n",
            "Epoch [47/200], Loss: 0.4176\n",
            "Epoch [48/200], Loss: 0.4165\n",
            "Epoch [49/200], Loss: 0.4145\n",
            "Epoch [50/200], Loss: 0.4157\n",
            "Epoch [51/200], Loss: 0.4127\n",
            "Epoch [52/200], Loss: 0.4163\n",
            "Epoch [53/200], Loss: 0.4134\n",
            "Epoch [54/200], Loss: 0.4119\n",
            "Epoch [55/200], Loss: 0.4109\n",
            "Epoch [56/200], Loss: 0.4135\n",
            "Epoch [57/200], Loss: 0.4116\n",
            "Epoch [58/200], Loss: 0.4100\n",
            "Epoch [59/200], Loss: 0.4095\n",
            "Epoch [60/200], Loss: 0.4098\n",
            "Epoch [61/200], Loss: 0.4077\n",
            "Epoch [62/200], Loss: 0.4070\n",
            "Epoch [63/200], Loss: 0.4070\n",
            "Epoch [64/200], Loss: 0.4101\n",
            "Epoch [65/200], Loss: 0.4118\n",
            "Epoch [66/200], Loss: 0.4864\n",
            "Epoch [67/200], Loss: 0.4058\n",
            "Epoch [68/200], Loss: 0.4052\n",
            "Epoch [69/200], Loss: 0.4053\n",
            "Epoch [70/200], Loss: 0.4113\n",
            "Epoch [71/200], Loss: 0.4825\n",
            "Epoch [72/200], Loss: 0.4040\n",
            "Epoch [73/200], Loss: 0.4035\n",
            "Epoch [74/200], Loss: 0.4027\n",
            "Epoch [75/200], Loss: 0.4022\n",
            "Epoch [76/200], Loss: 0.4037\n",
            "Epoch [77/200], Loss: 0.4029\n",
            "Epoch [78/200], Loss: 0.4023\n",
            "Epoch [79/200], Loss: 0.4023\n",
            "Epoch [80/200], Loss: 0.4020\n",
            "Epoch [81/200], Loss: 0.4019\n",
            "Epoch [82/200], Loss: 0.4012\n",
            "Epoch [83/200], Loss: 0.4016\n",
            "Epoch [84/200], Loss: 0.4007\n",
            "Epoch [85/200], Loss: 0.3997\n",
            "Epoch [86/200], Loss: 0.3993\n",
            "Epoch [87/200], Loss: 0.4003\n",
            "Epoch [88/200], Loss: 0.3993\n",
            "Epoch [89/200], Loss: 0.4000\n",
            "Epoch [90/200], Loss: 0.3990\n",
            "Epoch [91/200], Loss: 0.4011\n",
            "Epoch [92/200], Loss: 0.4000\n",
            "Epoch [93/200], Loss: 0.3995\n",
            "Epoch [94/200], Loss: 0.4000\n",
            "Epoch [95/200], Loss: 0.3988\n",
            "Epoch [96/200], Loss: 0.3985\n",
            "Epoch [97/200], Loss: 0.3983\n",
            "Epoch [98/200], Loss: 0.3972\n",
            "Epoch [99/200], Loss: 0.3972\n",
            "Epoch [100/200], Loss: 0.3965\n",
            "Epoch [101/200], Loss: 0.3982\n",
            "Epoch [102/200], Loss: 0.3959\n",
            "Epoch [103/200], Loss: 0.3957\n",
            "Epoch [104/200], Loss: 0.3965\n",
            "Epoch [105/200], Loss: 0.4740\n",
            "Epoch [106/200], Loss: 0.3959\n",
            "Epoch [107/200], Loss: 0.3981\n",
            "Epoch [108/200], Loss: 0.3954\n",
            "Epoch [109/200], Loss: 0.3957\n",
            "Epoch [110/200], Loss: 0.3960\n",
            "Epoch [111/200], Loss: 0.3960\n",
            "Epoch [112/200], Loss: 0.3951\n",
            "Epoch [113/200], Loss: 0.3959\n",
            "Epoch [114/200], Loss: 0.3958\n",
            "Epoch [115/200], Loss: 0.3966\n",
            "Epoch [116/200], Loss: 0.3953\n",
            "Epoch [117/200], Loss: 0.4763\n",
            "Epoch [118/200], Loss: 0.4740\n",
            "Epoch [119/200], Loss: 0.3997\n",
            "Epoch [120/200], Loss: 0.3965\n",
            "Epoch [121/200], Loss: 0.3982\n",
            "Epoch [122/200], Loss: 0.3991\n",
            "Epoch [123/200], Loss: 0.3990\n",
            "Epoch [124/200], Loss: 0.3979\n",
            "Epoch [125/200], Loss: 0.3947\n",
            "Epoch [126/200], Loss: 0.3949\n",
            "Epoch [127/200], Loss: 0.3948\n",
            "Epoch [128/200], Loss: 0.3948\n",
            "Epoch [129/200], Loss: 0.3948\n",
            "Epoch [130/200], Loss: 0.3938\n",
            "Epoch [131/200], Loss: 0.3940\n",
            "Epoch [132/200], Loss: 0.3942\n",
            "Epoch [133/200], Loss: 0.3970\n",
            "Epoch [134/200], Loss: 0.3934\n",
            "Epoch [135/200], Loss: 0.3940\n",
            "Epoch [136/200], Loss: 0.3945\n",
            "Epoch [137/200], Loss: 0.3985\n",
            "Epoch [138/200], Loss: 0.3948\n",
            "Epoch [139/200], Loss: 0.3937\n",
            "Epoch [140/200], Loss: 0.3946\n",
            "Epoch [141/200], Loss: 0.3942\n",
            "Epoch [142/200], Loss: 0.3933\n",
            "Epoch [143/200], Loss: 0.3924\n",
            "Epoch [144/200], Loss: 0.3923\n",
            "Epoch [145/200], Loss: 0.3924\n",
            "Epoch [146/200], Loss: 0.3928\n",
            "Epoch [147/200], Loss: 0.3921\n",
            "Epoch [148/200], Loss: 0.3926\n",
            "Epoch [149/200], Loss: 0.3918\n",
            "Epoch [150/200], Loss: 0.3923\n",
            "Epoch [151/200], Loss: 0.3924\n",
            "Epoch [152/200], Loss: 0.3923\n",
            "Epoch [153/200], Loss: 0.3927\n",
            "Epoch [154/200], Loss: 0.3934\n",
            "Epoch [155/200], Loss: 0.3916\n",
            "Epoch [156/200], Loss: 0.3913\n",
            "Epoch [157/200], Loss: 0.3919\n",
            "Epoch [158/200], Loss: 0.3914\n",
            "Epoch [159/200], Loss: 0.3921\n",
            "Epoch [160/200], Loss: 0.3921\n",
            "Epoch [161/200], Loss: 0.4724\n",
            "Epoch [162/200], Loss: 0.4711\n",
            "Epoch [163/200], Loss: 0.3963\n",
            "Epoch [164/200], Loss: 0.3921\n",
            "Epoch [165/200], Loss: 0.3909\n",
            "Epoch [166/200], Loss: 0.3923\n",
            "Epoch [167/200], Loss: 0.3943\n",
            "Epoch [168/200], Loss: 0.3911\n",
            "Epoch [169/200], Loss: 0.3900\n",
            "Epoch [170/200], Loss: 0.3900\n",
            "Epoch [171/200], Loss: 0.3903\n",
            "Epoch [172/200], Loss: 0.3907\n",
            "Epoch [173/200], Loss: 0.3934\n",
            "Epoch [174/200], Loss: 0.3907\n",
            "Epoch [175/200], Loss: 0.3906\n",
            "Epoch [176/200], Loss: 0.3905\n",
            "Epoch [177/200], Loss: 0.4688\n",
            "Epoch [178/200], Loss: 0.3913\n",
            "Epoch [179/200], Loss: 0.3906\n",
            "Epoch [180/200], Loss: 0.3919\n",
            "Epoch [181/200], Loss: 0.3907\n",
            "Epoch [182/200], Loss: 0.3908\n",
            "Epoch [183/200], Loss: 0.3911\n",
            "Epoch [184/200], Loss: 0.4054\n",
            "Epoch [185/200], Loss: 0.4157\n",
            "Epoch [186/200], Loss: 0.4270\n",
            "Epoch [187/200], Loss: 0.4280\n",
            "Epoch [188/200], Loss: 0.4168\n",
            "Epoch [189/200], Loss: 0.4137\n",
            "Epoch [190/200], Loss: 0.4100\n",
            "Epoch [191/200], Loss: 0.4079\n",
            "Epoch [192/200], Loss: 0.4047\n",
            "Epoch [193/200], Loss: 0.4010\n",
            "Epoch [194/200], Loss: 0.4008\n",
            "Epoch [195/200], Loss: 0.3991\n",
            "Epoch [196/200], Loss: 0.3976\n",
            "Epoch [197/200], Loss: 0.3971\n",
            "Epoch [198/200], Loss: 0.3957\n",
            "Epoch [199/200], Loss: 0.3943\n",
            "Epoch [200/200], Loss: 0.3947\n"
          ]
        }
      ]
    },
    {
      "cell_type": "code",
      "source": [
        "img, rec = test(autoencoder, test_dataloader)"
      ],
      "metadata": {
        "colab": {
          "base_uri": "https://localhost:8080/",
          "height": 919
        },
        "id": "jlclCiefNKIA",
        "outputId": "efef9f8e-9607-4bb6-d1dc-ba3f05becbf6"
      },
      "execution_count": 75,
      "outputs": [
        {
          "output_type": "stream",
          "name": "stdout",
          "text": [
            "Test Loss: 0.3919\n",
            "Original: \n"
          ]
        },
        {
          "output_type": "display_data",
          "data": {
            "text/plain": [
              "<Figure size 640x480 with 1 Axes>"
            ],
            "image/png": "[encoded data removed]"
          },
          "metadata": {}
        },
        {
          "output_type": "stream",
          "name": "stdout",
          "text": [
            "Reconstruction:\n"
          ]
        },
        {
          "output_type": "display_data",
          "data": {
            "text/plain": [
              "<Figure size 640x480 with 1 Axes>"
            ],
            "image/png": "[encoded data removed]"
          },
          "metadata": {}
        }
      ]
    },
    {
      "cell_type": "code",
      "source": [
        "print(sum(sum(img !=0)))\n",
        "print(sum(sum(rec != 0)))"
      ],
      "metadata": {
        "colab": {
          "base_uri": "https://localhost:8080/"
        },
        "id": "LvCj0yfPbXHq",
        "outputId": "523b87a7-ad93-4808-a5c0-45a92cbb342c"
      },
      "execution_count": null,
      "outputs": [
        {
          "output_type": "stream",
          "name": "stdout",
          "text": [
            "tensor(900000, device='cuda:0')\n",
            "tensor(900000, device='cuda:0')\n"
          ]
        }
      ]
    },
    {
      "cell_type": "code",
      "source": [
        "sum(rec[rec!=0])"
      ],
      "metadata": {
        "colab": {
          "base_uri": "https://localhost:8080/"
        },
        "id": "EZ7Ix8wWcq5n",
        "outputId": "73141656-13aa-474d-d039-f12c5035cd5d"
      },
      "execution_count": null,
      "outputs": [
        {
          "output_type": "execute_result",
          "data": {
            "text/plain": [
              "tensor(-115373.6797, device='cuda:0')"
            ]
          },
          "metadata": {},
          "execution_count": 21
        }
      ]
    }
  ]
}